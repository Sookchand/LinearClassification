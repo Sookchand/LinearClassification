{
  "nbformat": 4,
  "nbformat_minor": 0,
  "metadata": {
    "colab": {
      "name": "Machine Learning and Neurons.ipynb",
      "provenance": [],
      "collapsed_sections": [],
      "authorship_tag": "ABX9TyOuxoyar45PbS20/7Nycav5",
      "include_colab_link": true
    },
    "kernelspec": {
      "name": "python3",
      "display_name": "Python 3"
    }
  },
  "cells": [
    {
      "cell_type": "markdown",
      "metadata": {
        "id": "view-in-github",
        "colab_type": "text"
      },
      "source": [
        "<a href=\"https://colab.research.google.com/github/Sookchand/LinearClassification/blob/main/Machine_Learning_and_Neurons.ipynb\" target=\"_parent\"><img src=\"https://colab.research.google.com/assets/colab-badge.svg\" alt=\"Open In Colab\"/></a>"
      ]
    },
    {
      "cell_type": "code",
      "metadata": {
        "id": "CiiK7-dN3WNW"
      },
      "source": [
        ""
      ],
      "execution_count": null,
      "outputs": []
    },
    {
      "cell_type": "markdown",
      "metadata": {
        "id": "ksct_OQq3j0V"
      },
      "source": [
        "## More Details\n",
        "The main difference between ScikitLearn and Keras is that we are resposible for building the model\n",
        "\n",
        "1. The Architure of the model(the equation to go from input to prediction)\n",
        "2. How is this model trained:\n",
        "  * Cost/loss/error function\n",
        "  * Gradient decent to maximise cost"
      ]
    },
    {
      "cell_type": "markdown",
      "metadata": {
        "id": "N9qlrgrO4ZVX"
      },
      "source": [
        "# What is a line?\n",
        "1. This is just like the usual \"y = mx + b\"\n",
        "2. But for 2-D classification:\n",
        "  * The horizontal axis is x1\n",
        "  * The vertical axis is x2\n",
        "  * It's more conventional to arrange the equation as follows\n",
        "    (even though it could be written as x2 = mx1 + b)\n",
        "    w1x1 + w2x2 + b = 0"
      ]
    },
    {
      "cell_type": "markdown",
      "metadata": {
        "id": "e4Dgago873Zh"
      },
      "source": [
        "# The Decision rule\n",
        "How do we use the line to classify?\n",
        "\n",
        "a = w1x1 + w2x2 + b\n",
        "\n",
        "if a >= 0 predict ---> 1\n",
        "\n",
        "if a <= 0 predict ---> 0\n"
      ]
    },
    {
      "cell_type": "markdown",
      "metadata": {
        "id": "cwnUppqz9G8r"
      },
      "source": [
        "# The Decision Rule\n",
        "* Can be more compactly written as:\n",
        "\n",
        "y = u(a), a = w1x1 + w2x2 + b\n",
        "\n",
        "* In deep learning we prefer smooth diferential function(\"sigmoid\"):\n",
        "\n",
        "y = q(a), a = w1x1 + w2x2 + b\n"
      ]
    },
    {
      "cell_type": "markdown",
      "metadata": {
        "id": "CKDMbBjh-06F"
      },
      "source": [
        "# Probablistic Interpretation\n",
        "* We normally interpret the output as \"the probabbility that y = 1 given x\"\n",
        "* To make the prediction we round:\n",
        "  * if p(y=1 | x) > 50% ---> predict 1, else 0\n",
        "* The \"S-shaped\" curve is called a sigmoid.\n",
        "* The model is called Logistic Regression.\n",
        "* Sigmoid = Logistic Function.\n",
        "* Its argument is called \"logit\", although a more modern name is called \"activation\"\n",
        "\n",
        "p(y=1 | x) = q(w1x1 + w2x2 + b)"
      ]
    },
    {
      "cell_type": "markdown",
      "metadata": {
        "id": "_kS34_zAAzws"
      },
      "source": [
        "# Logistic Regression with 2 > inputs\n",
        "* WHat if we have > 2 inputs like 100 or 1000, etc\n",
        "* No problem! Just use what we know about matirces and vectors\n",
        "\n",
        "p(y=1 | x) = q(W^t x + b) = "
      ]
    },
    {
      "cell_type": "markdown",
      "metadata": {
        "id": "OblXEF09SVwP"
      },
      "source": [
        "Load in the data"
      ]
    },
    {
      "cell_type": "code",
      "metadata": {
        "id": "BKsUD-qgeEvJ"
      },
      "source": [
        "import tensorflow as tf"
      ],
      "execution_count": 3,
      "outputs": []
    },
    {
      "cell_type": "code",
      "metadata": {
        "id": "3yguDqoZ4UlD"
      },
      "source": [
        "from sklearn.datasets import load_breast_cancer"
      ],
      "execution_count": 4,
      "outputs": []
    },
    {
      "cell_type": "code",
      "metadata": {
        "id": "wfrY69CsSfsk"
      },
      "source": [
        "# Load the data\n",
        "data = load_breast_cancer()"
      ],
      "execution_count": 5,
      "outputs": []
    },
    {
      "cell_type": "code",
      "metadata": {
        "id": "JA4BQbP7S0-J",
        "outputId": "ec8e1572-97a2-4aaa-bbb2-64fa87abf029",
        "colab": {
          "base_uri": "https://localhost:8080/",
          "height": 34
        }
      },
      "source": [
        "# Check the type of the data\n",
        "type(data)"
      ],
      "execution_count": 6,
      "outputs": [
        {
          "output_type": "execute_result",
          "data": {
            "text/plain": [
              "sklearn.utils.Bunch"
            ]
          },
          "metadata": {
            "tags": []
          },
          "execution_count": 6
        }
      ]
    },
    {
      "cell_type": "code",
      "metadata": {
        "id": "AB7YyYCaS-Pb",
        "outputId": "919378b8-6d6e-45ea-9be7-a538a394db9c",
        "colab": {
          "base_uri": "https://localhost:8080/",
          "height": 34
        }
      },
      "source": [
        "# Note this is a bunch object\n",
        "# this is basically like a dictionary where you can treat the keys like attributes\n",
        "data.keys()\n"
      ],
      "execution_count": 7,
      "outputs": [
        {
          "output_type": "execute_result",
          "data": {
            "text/plain": [
              "dict_keys(['data', 'target', 'target_names', 'DESCR', 'feature_names', 'filename'])"
            ]
          },
          "metadata": {
            "tags": []
          },
          "execution_count": 7
        }
      ]
    },
    {
      "cell_type": "code",
      "metadata": {
        "id": "t56QqEeWTR1Y",
        "outputId": "417676d4-c28d-4229-fabb-bf6df557d801",
        "colab": {
          "base_uri": "https://localhost:8080/",
          "height": 34
        }
      },
      "source": [
        "# Data (the attributes) means the input data\n",
        "data.data.shape\n",
        "# it has 569 samples, 30 features"
      ],
      "execution_count": 8,
      "outputs": [
        {
          "output_type": "execute_result",
          "data": {
            "text/plain": [
              "(569, 30)"
            ]
          },
          "metadata": {
            "tags": []
          },
          "execution_count": 8
        }
      ]
    },
    {
      "cell_type": "code",
      "metadata": {
        "id": "XHRP9ruAUBsL",
        "outputId": "d4b1a911-50b1-4059-8753-f1d7d9f5afc7",
        "colab": {
          "base_uri": "https://localhost:8080/",
          "height": 454
        }
      },
      "source": [
        "# target\n",
        "data.target\n",
        "# The target is 0s and 1s\n",
        "# normaly when you have k targets they are label 0..k-1"
      ],
      "execution_count": 9,
      "outputs": [
        {
          "output_type": "execute_result",
          "data": {
            "text/plain": [
              "array([0, 0, 0, 0, 0, 0, 0, 0, 0, 0, 0, 0, 0, 0, 0, 0, 0, 0, 0, 1, 1, 1,\n",
              "       0, 0, 0, 0, 0, 0, 0, 0, 0, 0, 0, 0, 0, 0, 0, 1, 0, 0, 0, 0, 0, 0,\n",
              "       0, 0, 1, 0, 1, 1, 1, 1, 1, 0, 0, 1, 0, 0, 1, 1, 1, 1, 0, 1, 0, 0,\n",
              "       1, 1, 1, 1, 0, 1, 0, 0, 1, 0, 1, 0, 0, 1, 1, 1, 0, 0, 1, 0, 0, 0,\n",
              "       1, 1, 1, 0, 1, 1, 0, 0, 1, 1, 1, 0, 0, 1, 1, 1, 1, 0, 1, 1, 0, 1,\n",
              "       1, 1, 1, 1, 1, 1, 1, 0, 0, 0, 1, 0, 0, 1, 1, 1, 0, 0, 1, 0, 1, 0,\n",
              "       0, 1, 0, 0, 1, 1, 0, 1, 1, 0, 1, 1, 1, 1, 0, 1, 1, 1, 1, 1, 1, 1,\n",
              "       1, 1, 0, 1, 1, 1, 1, 0, 0, 1, 0, 1, 1, 0, 0, 1, 1, 0, 0, 1, 1, 1,\n",
              "       1, 0, 1, 1, 0, 0, 0, 1, 0, 1, 0, 1, 1, 1, 0, 1, 1, 0, 0, 1, 0, 0,\n",
              "       0, 0, 1, 0, 0, 0, 1, 0, 1, 0, 1, 1, 0, 1, 0, 0, 0, 0, 1, 1, 0, 0,\n",
              "       1, 1, 1, 0, 1, 1, 1, 1, 1, 0, 0, 1, 1, 0, 1, 1, 0, 0, 1, 0, 1, 1,\n",
              "       1, 1, 0, 1, 1, 1, 1, 1, 0, 1, 0, 0, 0, 0, 0, 0, 0, 0, 0, 0, 0, 0,\n",
              "       0, 0, 1, 1, 1, 1, 1, 1, 0, 1, 0, 1, 1, 0, 1, 1, 0, 1, 0, 0, 1, 1,\n",
              "       1, 1, 1, 1, 1, 1, 1, 1, 1, 1, 1, 0, 1, 1, 0, 1, 0, 1, 1, 1, 1, 1,\n",
              "       1, 1, 1, 1, 1, 1, 1, 1, 1, 0, 1, 1, 1, 0, 1, 0, 1, 1, 1, 1, 0, 0,\n",
              "       0, 1, 1, 1, 1, 0, 1, 0, 1, 0, 1, 1, 1, 0, 1, 1, 1, 1, 1, 1, 1, 0,\n",
              "       0, 0, 1, 1, 1, 1, 1, 1, 1, 1, 1, 1, 1, 0, 0, 1, 0, 0, 0, 1, 0, 0,\n",
              "       1, 1, 1, 1, 1, 0, 1, 1, 1, 1, 1, 0, 1, 1, 1, 0, 1, 1, 0, 0, 1, 1,\n",
              "       1, 1, 1, 1, 0, 1, 1, 1, 1, 1, 1, 1, 0, 1, 1, 1, 1, 1, 0, 1, 1, 0,\n",
              "       1, 1, 1, 1, 1, 1, 1, 1, 1, 1, 1, 1, 0, 1, 0, 0, 1, 0, 1, 1, 1, 1,\n",
              "       1, 0, 1, 1, 0, 1, 0, 1, 1, 0, 1, 0, 1, 1, 1, 1, 1, 1, 1, 1, 0, 0,\n",
              "       1, 1, 1, 1, 1, 1, 0, 1, 1, 1, 1, 1, 1, 1, 1, 1, 1, 0, 1, 1, 1, 1,\n",
              "       1, 1, 1, 0, 1, 0, 1, 1, 0, 1, 1, 1, 1, 1, 0, 0, 1, 0, 1, 0, 1, 1,\n",
              "       1, 1, 1, 0, 1, 1, 0, 1, 0, 1, 0, 0, 1, 1, 1, 0, 1, 1, 1, 1, 1, 1,\n",
              "       1, 1, 1, 1, 1, 0, 1, 0, 0, 1, 1, 1, 1, 1, 1, 1, 1, 1, 1, 1, 1, 1,\n",
              "       1, 1, 1, 1, 1, 1, 1, 1, 1, 1, 1, 1, 0, 0, 0, 0, 0, 0, 1])"
            ]
          },
          "metadata": {
            "tags": []
          },
          "execution_count": 9
        }
      ]
    },
    {
      "cell_type": "code",
      "metadata": {
        "id": "YS47A6ueUL-N",
        "outputId": "4f1b257e-6088-48d6-f8fa-a75b65c90a84",
        "colab": {
          "base_uri": "https://localhost:8080/",
          "height": 34
        }
      },
      "source": [
        "# their meaning is not lost\n",
        "data.target_names"
      ],
      "execution_count": 10,
      "outputs": [
        {
          "output_type": "execute_result",
          "data": {
            "text/plain": [
              "array(['malignant', 'benign'], dtype='<U9')"
            ]
          },
          "metadata": {
            "tags": []
          },
          "execution_count": 10
        }
      ]
    },
    {
      "cell_type": "code",
      "metadata": {
        "id": "FT-7alWCV0Cn",
        "outputId": "43a76c32-bc51-48ec-e237-970cacd0fd37",
        "colab": {
          "base_uri": "https://localhost:8080/",
          "height": 34
        }
      },
      "source": [
        "# there are alos 569 coresponding target\n",
        "data.target.shape"
      ],
      "execution_count": 11,
      "outputs": [
        {
          "output_type": "execute_result",
          "data": {
            "text/plain": [
              "(569,)"
            ]
          },
          "metadata": {
            "tags": []
          },
          "execution_count": 11
        }
      ]
    },
    {
      "cell_type": "code",
      "metadata": {
        "id": "rfwCZy4JWK67",
        "outputId": "d5259a56-24b7-4cf2-f656-4b824da9ec9e",
        "colab": {
          "base_uri": "https://localhost:8080/",
          "height": 185
        }
      },
      "source": [
        "# You can also determine the input of each feature name\n",
        "data.feature_names"
      ],
      "execution_count": 12,
      "outputs": [
        {
          "output_type": "execute_result",
          "data": {
            "text/plain": [
              "array(['mean radius', 'mean texture', 'mean perimeter', 'mean area',\n",
              "       'mean smoothness', 'mean compactness', 'mean concavity',\n",
              "       'mean concave points', 'mean symmetry', 'mean fractal dimension',\n",
              "       'radius error', 'texture error', 'perimeter error', 'area error',\n",
              "       'smoothness error', 'compactness error', 'concavity error',\n",
              "       'concave points error', 'symmetry error',\n",
              "       'fractal dimension error', 'worst radius', 'worst texture',\n",
              "       'worst perimeter', 'worst area', 'worst smoothness',\n",
              "       'worst compactness', 'worst concavity', 'worst concave points',\n",
              "       'worst symmetry', 'worst fractal dimension'], dtype='<U23')"
            ]
          },
          "metadata": {
            "tags": []
          },
          "execution_count": 12
        }
      ]
    },
    {
      "cell_type": "code",
      "metadata": {
        "id": "PQ51-k7PWj1p"
      },
      "source": [
        "# Going to split the data into train and test\n",
        "from sklearn.model_selection import train_test_split\n",
        "\n",
        "# split the data into train and tes sets\n",
        "x_train, x_test, y_train, y_test = train_test_split(data.data, data.target, test_size=0.33)\n",
        "N, D = x_train.shape"
      ],
      "execution_count": 13,
      "outputs": []
    },
    {
      "cell_type": "code",
      "metadata": {
        "id": "SPIUcqX9YkOQ"
      },
      "source": [
        "# scale the data\n",
        "from sklearn.preprocessing import StandardScaler\n",
        "\n",
        "scaler = StandardScaler()\n",
        "x_train = scaler.fit_transform(x_train)\n",
        "x_test = scaler.transform(x_test)"
      ],
      "execution_count": 14,
      "outputs": []
    },
    {
      "cell_type": "code",
      "metadata": {
        "id": "kaH0ZEZLZx1n",
        "outputId": "ed620588-f79d-479a-c96a-bb186b849550",
        "colab": {
          "base_uri": "https://localhost:8080/",
          "height": 1000
        }
      },
      "source": [
        "# Now all the fun tensorflow stuff\n",
        "# Build the model\n",
        "\n",
        "model = tf.keras.models.Sequential([\n",
        "                                    tf.keras.layers.Input(shape=(D,)),\n",
        "                                    tf.keras.layers.Dense(1, activation=\"sigmoid\")\n",
        "])\n",
        "# Alternatively\n",
        "# model = tf.keras.models.sequential()\n",
        "# model.add(tf.keras.layers.Dense(1, input_shape(D,), activation = \"sigmoid\"))\n",
        "\n",
        "model.compile(optimizer=\"Adam\",\n",
        "              loss = \"binary_crossentropy\",\n",
        "              metrics = \"accuracy\")\n",
        "\n",
        "# train the model\n",
        "r = model.fit(x_train, y_train, validation_data = (x_test, y_test), epochs = 100)\n",
        "\n",
        "#Evaluate the model - evaluate() returns loss and accuracy\n",
        "print(\"Train Score:\", model.evaluate(x_train, y_train))\n",
        "print (\"Test Score:\", model.evaluate(x_test, y_test))\n"
      ],
      "execution_count": 15,
      "outputs": [
        {
          "output_type": "stream",
          "text": [
            "Epoch 1/100\n",
            "12/12 [==============================] - 0s 14ms/step - loss: 0.5183 - accuracy: 0.7822 - val_loss: 0.4713 - val_accuracy: 0.8511\n",
            "Epoch 2/100\n",
            "12/12 [==============================] - 0s 3ms/step - loss: 0.4726 - accuracy: 0.8163 - val_loss: 0.4287 - val_accuracy: 0.8883\n",
            "Epoch 3/100\n",
            "12/12 [==============================] - 0s 3ms/step - loss: 0.4350 - accuracy: 0.8320 - val_loss: 0.3934 - val_accuracy: 0.8883\n",
            "Epoch 4/100\n",
            "12/12 [==============================] - 0s 3ms/step - loss: 0.4030 - accuracy: 0.8583 - val_loss: 0.3644 - val_accuracy: 0.8936\n",
            "Epoch 5/100\n",
            "12/12 [==============================] - 0s 3ms/step - loss: 0.3766 - accuracy: 0.8819 - val_loss: 0.3403 - val_accuracy: 0.9043\n",
            "Epoch 6/100\n",
            "12/12 [==============================] - 0s 3ms/step - loss: 0.3538 - accuracy: 0.9055 - val_loss: 0.3199 - val_accuracy: 0.9149\n",
            "Epoch 7/100\n",
            "12/12 [==============================] - 0s 3ms/step - loss: 0.3342 - accuracy: 0.9134 - val_loss: 0.3030 - val_accuracy: 0.9255\n",
            "Epoch 8/100\n",
            "12/12 [==============================] - 0s 3ms/step - loss: 0.3172 - accuracy: 0.9239 - val_loss: 0.2874 - val_accuracy: 0.9415\n",
            "Epoch 9/100\n",
            "12/12 [==============================] - 0s 3ms/step - loss: 0.3018 - accuracy: 0.9318 - val_loss: 0.2742 - val_accuracy: 0.9574\n",
            "Epoch 10/100\n",
            "12/12 [==============================] - 0s 3ms/step - loss: 0.2883 - accuracy: 0.9370 - val_loss: 0.2624 - val_accuracy: 0.9574\n",
            "Epoch 11/100\n",
            "12/12 [==============================] - 0s 3ms/step - loss: 0.2763 - accuracy: 0.9370 - val_loss: 0.2517 - val_accuracy: 0.9574\n",
            "Epoch 12/100\n",
            "12/12 [==============================] - 0s 3ms/step - loss: 0.2648 - accuracy: 0.9370 - val_loss: 0.2422 - val_accuracy: 0.9574\n",
            "Epoch 13/100\n",
            "12/12 [==============================] - 0s 4ms/step - loss: 0.2550 - accuracy: 0.9370 - val_loss: 0.2334 - val_accuracy: 0.9574\n",
            "Epoch 14/100\n",
            "12/12 [==============================] - 0s 3ms/step - loss: 0.2456 - accuracy: 0.9396 - val_loss: 0.2257 - val_accuracy: 0.9574\n",
            "Epoch 15/100\n",
            "12/12 [==============================] - 0s 3ms/step - loss: 0.2370 - accuracy: 0.9423 - val_loss: 0.2187 - val_accuracy: 0.9574\n",
            "Epoch 16/100\n",
            "12/12 [==============================] - 0s 3ms/step - loss: 0.2291 - accuracy: 0.9423 - val_loss: 0.2121 - val_accuracy: 0.9574\n",
            "Epoch 17/100\n",
            "12/12 [==============================] - 0s 3ms/step - loss: 0.2219 - accuracy: 0.9449 - val_loss: 0.2059 - val_accuracy: 0.9628\n",
            "Epoch 18/100\n",
            "12/12 [==============================] - 0s 3ms/step - loss: 0.2152 - accuracy: 0.9475 - val_loss: 0.2001 - val_accuracy: 0.9628\n",
            "Epoch 19/100\n",
            "12/12 [==============================] - 0s 3ms/step - loss: 0.2088 - accuracy: 0.9501 - val_loss: 0.1949 - val_accuracy: 0.9628\n",
            "Epoch 20/100\n",
            "12/12 [==============================] - 0s 3ms/step - loss: 0.2030 - accuracy: 0.9501 - val_loss: 0.1900 - val_accuracy: 0.9628\n",
            "Epoch 21/100\n",
            "12/12 [==============================] - 0s 3ms/step - loss: 0.1973 - accuracy: 0.9528 - val_loss: 0.1856 - val_accuracy: 0.9628\n",
            "Epoch 22/100\n",
            "12/12 [==============================] - 0s 3ms/step - loss: 0.1924 - accuracy: 0.9528 - val_loss: 0.1813 - val_accuracy: 0.9628\n",
            "Epoch 23/100\n",
            "12/12 [==============================] - 0s 3ms/step - loss: 0.1874 - accuracy: 0.9528 - val_loss: 0.1772 - val_accuracy: 0.9628\n",
            "Epoch 24/100\n",
            "12/12 [==============================] - 0s 3ms/step - loss: 0.1830 - accuracy: 0.9554 - val_loss: 0.1735 - val_accuracy: 0.9628\n",
            "Epoch 25/100\n",
            "12/12 [==============================] - 0s 3ms/step - loss: 0.1786 - accuracy: 0.9554 - val_loss: 0.1700 - val_accuracy: 0.9628\n",
            "Epoch 26/100\n",
            "12/12 [==============================] - 0s 3ms/step - loss: 0.1745 - accuracy: 0.9580 - val_loss: 0.1666 - val_accuracy: 0.9628\n",
            "Epoch 27/100\n",
            "12/12 [==============================] - 0s 3ms/step - loss: 0.1708 - accuracy: 0.9606 - val_loss: 0.1634 - val_accuracy: 0.9628\n",
            "Epoch 28/100\n",
            "12/12 [==============================] - 0s 3ms/step - loss: 0.1672 - accuracy: 0.9659 - val_loss: 0.1604 - val_accuracy: 0.9628\n",
            "Epoch 29/100\n",
            "12/12 [==============================] - 0s 3ms/step - loss: 0.1637 - accuracy: 0.9659 - val_loss: 0.1576 - val_accuracy: 0.9628\n",
            "Epoch 30/100\n",
            "12/12 [==============================] - 0s 3ms/step - loss: 0.1606 - accuracy: 0.9685 - val_loss: 0.1550 - val_accuracy: 0.9628\n",
            "Epoch 31/100\n",
            "12/12 [==============================] - 0s 3ms/step - loss: 0.1574 - accuracy: 0.9685 - val_loss: 0.1524 - val_accuracy: 0.9628\n",
            "Epoch 32/100\n",
            "12/12 [==============================] - 0s 3ms/step - loss: 0.1545 - accuracy: 0.9711 - val_loss: 0.1500 - val_accuracy: 0.9628\n",
            "Epoch 33/100\n",
            "12/12 [==============================] - 0s 3ms/step - loss: 0.1517 - accuracy: 0.9711 - val_loss: 0.1476 - val_accuracy: 0.9628\n",
            "Epoch 34/100\n",
            "12/12 [==============================] - 0s 3ms/step - loss: 0.1490 - accuracy: 0.9711 - val_loss: 0.1455 - val_accuracy: 0.9628\n",
            "Epoch 35/100\n",
            "12/12 [==============================] - 0s 3ms/step - loss: 0.1465 - accuracy: 0.9711 - val_loss: 0.1433 - val_accuracy: 0.9628\n",
            "Epoch 36/100\n",
            "12/12 [==============================] - 0s 3ms/step - loss: 0.1441 - accuracy: 0.9711 - val_loss: 0.1413 - val_accuracy: 0.9628\n",
            "Epoch 37/100\n",
            "12/12 [==============================] - 0s 3ms/step - loss: 0.1418 - accuracy: 0.9711 - val_loss: 0.1394 - val_accuracy: 0.9628\n",
            "Epoch 38/100\n",
            "12/12 [==============================] - 0s 3ms/step - loss: 0.1395 - accuracy: 0.9711 - val_loss: 0.1376 - val_accuracy: 0.9628\n",
            "Epoch 39/100\n",
            "12/12 [==============================] - 0s 3ms/step - loss: 0.1374 - accuracy: 0.9711 - val_loss: 0.1357 - val_accuracy: 0.9628\n",
            "Epoch 40/100\n",
            "12/12 [==============================] - 0s 4ms/step - loss: 0.1353 - accuracy: 0.9711 - val_loss: 0.1341 - val_accuracy: 0.9628\n",
            "Epoch 41/100\n",
            "12/12 [==============================] - 0s 3ms/step - loss: 0.1334 - accuracy: 0.9711 - val_loss: 0.1324 - val_accuracy: 0.9628\n",
            "Epoch 42/100\n",
            "12/12 [==============================] - 0s 3ms/step - loss: 0.1315 - accuracy: 0.9711 - val_loss: 0.1308 - val_accuracy: 0.9628\n",
            "Epoch 43/100\n",
            "12/12 [==============================] - 0s 3ms/step - loss: 0.1297 - accuracy: 0.9738 - val_loss: 0.1294 - val_accuracy: 0.9628\n",
            "Epoch 44/100\n",
            "12/12 [==============================] - 0s 3ms/step - loss: 0.1280 - accuracy: 0.9738 - val_loss: 0.1279 - val_accuracy: 0.9628\n",
            "Epoch 45/100\n",
            "12/12 [==============================] - 0s 3ms/step - loss: 0.1263 - accuracy: 0.9738 - val_loss: 0.1265 - val_accuracy: 0.9681\n",
            "Epoch 46/100\n",
            "12/12 [==============================] - 0s 3ms/step - loss: 0.1247 - accuracy: 0.9738 - val_loss: 0.1251 - val_accuracy: 0.9734\n",
            "Epoch 47/100\n",
            "12/12 [==============================] - 0s 3ms/step - loss: 0.1231 - accuracy: 0.9738 - val_loss: 0.1238 - val_accuracy: 0.9734\n",
            "Epoch 48/100\n",
            "12/12 [==============================] - 0s 3ms/step - loss: 0.1216 - accuracy: 0.9738 - val_loss: 0.1227 - val_accuracy: 0.9734\n",
            "Epoch 49/100\n",
            "12/12 [==============================] - 0s 3ms/step - loss: 0.1202 - accuracy: 0.9738 - val_loss: 0.1214 - val_accuracy: 0.9734\n",
            "Epoch 50/100\n",
            "12/12 [==============================] - 0s 3ms/step - loss: 0.1188 - accuracy: 0.9738 - val_loss: 0.1203 - val_accuracy: 0.9734\n",
            "Epoch 51/100\n",
            "12/12 [==============================] - 0s 3ms/step - loss: 0.1174 - accuracy: 0.9764 - val_loss: 0.1192 - val_accuracy: 0.9734\n",
            "Epoch 52/100\n",
            "12/12 [==============================] - 0s 3ms/step - loss: 0.1161 - accuracy: 0.9764 - val_loss: 0.1180 - val_accuracy: 0.9734\n",
            "Epoch 53/100\n",
            "12/12 [==============================] - 0s 3ms/step - loss: 0.1148 - accuracy: 0.9764 - val_loss: 0.1169 - val_accuracy: 0.9734\n",
            "Epoch 54/100\n",
            "12/12 [==============================] - 0s 3ms/step - loss: 0.1136 - accuracy: 0.9764 - val_loss: 0.1161 - val_accuracy: 0.9734\n",
            "Epoch 55/100\n",
            "12/12 [==============================] - 0s 3ms/step - loss: 0.1124 - accuracy: 0.9790 - val_loss: 0.1151 - val_accuracy: 0.9734\n",
            "Epoch 56/100\n",
            "12/12 [==============================] - 0s 3ms/step - loss: 0.1113 - accuracy: 0.9816 - val_loss: 0.1141 - val_accuracy: 0.9734\n",
            "Epoch 57/100\n",
            "12/12 [==============================] - 0s 3ms/step - loss: 0.1101 - accuracy: 0.9816 - val_loss: 0.1132 - val_accuracy: 0.9734\n",
            "Epoch 58/100\n",
            "12/12 [==============================] - 0s 3ms/step - loss: 0.1090 - accuracy: 0.9816 - val_loss: 0.1123 - val_accuracy: 0.9734\n",
            "Epoch 59/100\n",
            "12/12 [==============================] - 0s 3ms/step - loss: 0.1080 - accuracy: 0.9816 - val_loss: 0.1114 - val_accuracy: 0.9734\n",
            "Epoch 60/100\n",
            "12/12 [==============================] - 0s 3ms/step - loss: 0.1069 - accuracy: 0.9816 - val_loss: 0.1106 - val_accuracy: 0.9734\n",
            "Epoch 61/100\n",
            "12/12 [==============================] - 0s 3ms/step - loss: 0.1059 - accuracy: 0.9816 - val_loss: 0.1099 - val_accuracy: 0.9734\n",
            "Epoch 62/100\n",
            "12/12 [==============================] - 0s 3ms/step - loss: 0.1050 - accuracy: 0.9816 - val_loss: 0.1090 - val_accuracy: 0.9787\n",
            "Epoch 63/100\n",
            "12/12 [==============================] - 0s 3ms/step - loss: 0.1040 - accuracy: 0.9816 - val_loss: 0.1083 - val_accuracy: 0.9787\n",
            "Epoch 64/100\n",
            "12/12 [==============================] - 0s 3ms/step - loss: 0.1031 - accuracy: 0.9816 - val_loss: 0.1076 - val_accuracy: 0.9787\n",
            "Epoch 65/100\n",
            "12/12 [==============================] - 0s 3ms/step - loss: 0.1022 - accuracy: 0.9816 - val_loss: 0.1069 - val_accuracy: 0.9787\n",
            "Epoch 66/100\n",
            "12/12 [==============================] - 0s 3ms/step - loss: 0.1013 - accuracy: 0.9816 - val_loss: 0.1062 - val_accuracy: 0.9787\n",
            "Epoch 67/100\n",
            "12/12 [==============================] - 0s 3ms/step - loss: 0.1004 - accuracy: 0.9816 - val_loss: 0.1055 - val_accuracy: 0.9787\n",
            "Epoch 68/100\n",
            "12/12 [==============================] - 0s 3ms/step - loss: 0.0996 - accuracy: 0.9816 - val_loss: 0.1049 - val_accuracy: 0.9787\n",
            "Epoch 69/100\n",
            "12/12 [==============================] - 0s 3ms/step - loss: 0.0988 - accuracy: 0.9816 - val_loss: 0.1043 - val_accuracy: 0.9787\n",
            "Epoch 70/100\n",
            "12/12 [==============================] - 0s 3ms/step - loss: 0.0980 - accuracy: 0.9816 - val_loss: 0.1037 - val_accuracy: 0.9787\n",
            "Epoch 71/100\n",
            "12/12 [==============================] - 0s 3ms/step - loss: 0.0973 - accuracy: 0.9816 - val_loss: 0.1031 - val_accuracy: 0.9787\n",
            "Epoch 72/100\n",
            "12/12 [==============================] - 0s 3ms/step - loss: 0.0965 - accuracy: 0.9843 - val_loss: 0.1025 - val_accuracy: 0.9787\n",
            "Epoch 73/100\n",
            "12/12 [==============================] - 0s 3ms/step - loss: 0.0957 - accuracy: 0.9843 - val_loss: 0.1019 - val_accuracy: 0.9787\n",
            "Epoch 74/100\n",
            "12/12 [==============================] - 0s 3ms/step - loss: 0.0950 - accuracy: 0.9843 - val_loss: 0.1013 - val_accuracy: 0.9787\n",
            "Epoch 75/100\n",
            "12/12 [==============================] - 0s 3ms/step - loss: 0.0943 - accuracy: 0.9843 - val_loss: 0.1008 - val_accuracy: 0.9787\n",
            "Epoch 76/100\n",
            "12/12 [==============================] - 0s 3ms/step - loss: 0.0936 - accuracy: 0.9869 - val_loss: 0.1004 - val_accuracy: 0.9840\n",
            "Epoch 77/100\n",
            "12/12 [==============================] - 0s 3ms/step - loss: 0.0930 - accuracy: 0.9869 - val_loss: 0.0998 - val_accuracy: 0.9840\n",
            "Epoch 78/100\n",
            "12/12 [==============================] - 0s 3ms/step - loss: 0.0923 - accuracy: 0.9869 - val_loss: 0.0993 - val_accuracy: 0.9840\n",
            "Epoch 79/100\n",
            "12/12 [==============================] - 0s 3ms/step - loss: 0.0917 - accuracy: 0.9869 - val_loss: 0.0989 - val_accuracy: 0.9840\n",
            "Epoch 80/100\n",
            "12/12 [==============================] - 0s 3ms/step - loss: 0.0911 - accuracy: 0.9869 - val_loss: 0.0985 - val_accuracy: 0.9840\n",
            "Epoch 81/100\n",
            "12/12 [==============================] - 0s 3ms/step - loss: 0.0904 - accuracy: 0.9869 - val_loss: 0.0981 - val_accuracy: 0.9840\n",
            "Epoch 82/100\n",
            "12/12 [==============================] - 0s 3ms/step - loss: 0.0898 - accuracy: 0.9869 - val_loss: 0.0976 - val_accuracy: 0.9840\n",
            "Epoch 83/100\n",
            "12/12 [==============================] - 0s 3ms/step - loss: 0.0893 - accuracy: 0.9869 - val_loss: 0.0972 - val_accuracy: 0.9840\n",
            "Epoch 84/100\n",
            "12/12 [==============================] - 0s 3ms/step - loss: 0.0887 - accuracy: 0.9869 - val_loss: 0.0968 - val_accuracy: 0.9840\n",
            "Epoch 85/100\n",
            "12/12 [==============================] - 0s 3ms/step - loss: 0.0881 - accuracy: 0.9869 - val_loss: 0.0964 - val_accuracy: 0.9840\n",
            "Epoch 86/100\n",
            "12/12 [==============================] - 0s 3ms/step - loss: 0.0875 - accuracy: 0.9869 - val_loss: 0.0960 - val_accuracy: 0.9840\n",
            "Epoch 87/100\n",
            "12/12 [==============================] - 0s 3ms/step - loss: 0.0870 - accuracy: 0.9869 - val_loss: 0.0956 - val_accuracy: 0.9840\n",
            "Epoch 88/100\n",
            "12/12 [==============================] - 0s 3ms/step - loss: 0.0864 - accuracy: 0.9869 - val_loss: 0.0952 - val_accuracy: 0.9840\n",
            "Epoch 89/100\n",
            "12/12 [==============================] - 0s 3ms/step - loss: 0.0859 - accuracy: 0.9869 - val_loss: 0.0948 - val_accuracy: 0.9840\n",
            "Epoch 90/100\n",
            "12/12 [==============================] - 0s 3ms/step - loss: 0.0854 - accuracy: 0.9869 - val_loss: 0.0945 - val_accuracy: 0.9840\n",
            "Epoch 91/100\n",
            "12/12 [==============================] - 0s 4ms/step - loss: 0.0849 - accuracy: 0.9869 - val_loss: 0.0942 - val_accuracy: 0.9840\n",
            "Epoch 92/100\n",
            "12/12 [==============================] - 0s 4ms/step - loss: 0.0844 - accuracy: 0.9869 - val_loss: 0.0939 - val_accuracy: 0.9840\n",
            "Epoch 93/100\n",
            "12/12 [==============================] - 0s 3ms/step - loss: 0.0839 - accuracy: 0.9869 - val_loss: 0.0935 - val_accuracy: 0.9840\n",
            "Epoch 94/100\n",
            "12/12 [==============================] - 0s 3ms/step - loss: 0.0835 - accuracy: 0.9869 - val_loss: 0.0932 - val_accuracy: 0.9840\n",
            "Epoch 95/100\n",
            "12/12 [==============================] - 0s 3ms/step - loss: 0.0830 - accuracy: 0.9869 - val_loss: 0.0929 - val_accuracy: 0.9840\n",
            "Epoch 96/100\n",
            "12/12 [==============================] - 0s 3ms/step - loss: 0.0825 - accuracy: 0.9869 - val_loss: 0.0926 - val_accuracy: 0.9840\n",
            "Epoch 97/100\n",
            "12/12 [==============================] - 0s 3ms/step - loss: 0.0821 - accuracy: 0.9869 - val_loss: 0.0923 - val_accuracy: 0.9840\n",
            "Epoch 98/100\n",
            "12/12 [==============================] - 0s 3ms/step - loss: 0.0816 - accuracy: 0.9869 - val_loss: 0.0920 - val_accuracy: 0.9840\n",
            "Epoch 99/100\n",
            "12/12 [==============================] - 0s 3ms/step - loss: 0.0812 - accuracy: 0.9869 - val_loss: 0.0919 - val_accuracy: 0.9840\n",
            "Epoch 100/100\n",
            "12/12 [==============================] - 0s 3ms/step - loss: 0.0807 - accuracy: 0.9869 - val_loss: 0.0916 - val_accuracy: 0.9840\n",
            "12/12 [==============================] - 0s 1ms/step - loss: 0.0805 - accuracy: 0.9869\n",
            "Train Score: [0.08048451691865921, 0.9868766665458679]\n",
            "6/6 [==============================] - 0s 2ms/step - loss: 0.0916 - accuracy: 0.9840\n",
            "Test Score: [0.0915863960981369, 0.9840425252914429]\n"
          ],
          "name": "stdout"
        }
      ]
    },
    {
      "cell_type": "code",
      "metadata": {
        "id": "0MadgHMGdoc1",
        "outputId": "cba53918-ee5d-4cca-d916-9285dc356c49",
        "colab": {
          "base_uri": "https://localhost:8080/",
          "height": 282
        }
      },
      "source": [
        "import matplotlib.pyplot as plt\n",
        "# plot the accuracy\n",
        "plt.plot(r.history[\"accuracy\"], label = \"acc\")\n",
        "plt.plot(r.history[\"val_accuracy\"], label = \"val_acc\")\n",
        "plt.legend()"
      ],
      "execution_count": 16,
      "outputs": [
        {
          "output_type": "execute_result",
          "data": {
            "text/plain": [
              "<matplotlib.legend.Legend at 0x7fdb36c49208>"
            ]
          },
          "metadata": {
            "tags": []
          },
          "execution_count": 16
        },
        {
          "output_type": "display_data",
          "data": {
            "image/png": "[encoded data removed]",
            "text/plain": [
              "<Figure size 432x288 with 1 Axes>"
            ]
          },
          "metadata": {
            "tags": [],
            "needs_background": "light"
          }
        }
      ]
    },
    {
      "cell_type": "code",
      "metadata": {
        "id": "o7725olI85n5",
        "outputId": "7248ece2-4ee2-45c6-854f-56b2dfa03e6c",
        "colab": {
          "base_uri": "https://localhost:8080/",
          "height": 282
        }
      },
      "source": [
        "plt.plot(r.history[\"loss\"], label = \"loss\")\n",
        "plt.plot(r.history[\"val_loss\"], label = \"val_loss\")\n",
        "plt.legend()"
      ],
      "execution_count": 17,
      "outputs": [
        {
          "output_type": "execute_result",
          "data": {
            "text/plain": [
              "<matplotlib.legend.Legend at 0x7fdb36760518>"
            ]
          },
          "metadata": {
            "tags": []
          },
          "execution_count": 17
        },
        {
          "output_type": "display_data",
          "data": {
            "image/png": "[encoded data removed]",
            "text/plain": [
              "<Figure size 432x288 with 1 Axes>"
            ]
          },
          "metadata": {
            "tags": [],
            "needs_background": "light"
          }
        }
      ]
    },
    {
      "cell_type": "code",
      "metadata": {
        "id": "MbytEcIZk3da",
        "outputId": "4f905f78-47a4-44f0-872d-46c02f030e23",
        "colab": {
          "base_uri": "https://localhost:8080/",
          "height": 1000
        }
      },
      "source": [
        "p = model.predict(x_test)\n",
        "print(p) # they are ouputs of the sigmoid interpreted as probabilities p(y = 1 | x)\n",
        "# Round to get the actual predictions\n",
        "# note: has to be flattened since the target are size (N, ) while predictions are size (N, 1)"
      ],
      "execution_count": 18,
      "outputs": [
        {
          "output_type": "stream",
          "text": [
            "[[9.8042828e-01]\n",
            " [9.8385167e-01]\n",
            " [9.7923553e-01]\n",
            " [9.9615622e-01]\n",
            " [9.3330956e-01]\n",
            " [9.2871475e-01]\n",
            " [9.9139869e-01]\n",
            " [9.8863427e-05]\n",
            " [2.3820400e-03]\n",
            " [6.8772209e-01]\n",
            " [8.8608968e-01]\n",
            " [9.9993503e-01]\n",
            " [2.1841621e-05]\n",
            " [8.4810716e-05]\n",
            " [8.0462290e-05]\n",
            " [9.9928862e-01]\n",
            " [4.2993724e-03]\n",
            " [6.0078502e-04]\n",
            " [9.9918753e-01]\n",
            " [9.9988616e-01]\n",
            " [8.7636924e-01]\n",
            " [9.9664807e-01]\n",
            " [2.9533952e-02]\n",
            " [9.9606895e-01]\n",
            " [9.9882412e-01]\n",
            " [4.5705438e-03]\n",
            " [1.2788177e-04]\n",
            " [6.3561881e-01]\n",
            " [6.5677142e-01]\n",
            " [5.4545628e-05]\n",
            " [8.7007391e-01]\n",
            " [1.5556812e-04]\n",
            " [9.4720572e-01]\n",
            " [9.9856853e-01]\n",
            " [1.3744122e-01]\n",
            " [3.1285584e-03]\n",
            " [9.6275723e-01]\n",
            " [1.8303983e-05]\n",
            " [9.6769333e-03]\n",
            " [9.9706602e-01]\n",
            " [8.0009699e-03]\n",
            " [9.9367142e-01]\n",
            " [1.7686787e-05]\n",
            " [9.9966735e-01]\n",
            " [1.4710426e-04]\n",
            " [8.2662135e-01]\n",
            " [9.9861449e-01]\n",
            " [1.0380632e-05]\n",
            " [9.9278688e-01]\n",
            " [3.0197236e-06]\n",
            " [9.8196268e-01]\n",
            " [8.3724904e-01]\n",
            " [8.0347061e-04]\n",
            " [8.6623132e-03]\n",
            " [9.8978281e-01]\n",
            " [9.8850715e-01]\n",
            " [2.2466421e-02]\n",
            " [9.6994531e-01]\n",
            " [8.1608295e-03]\n",
            " [9.9704254e-01]\n",
            " [1.0283372e-01]\n",
            " [8.4680092e-01]\n",
            " [8.1974649e-05]\n",
            " [9.9875832e-01]\n",
            " [6.1661723e-08]\n",
            " [9.9428165e-01]\n",
            " [2.7368993e-02]\n",
            " [9.9866509e-01]\n",
            " [1.6218394e-02]\n",
            " [4.3333471e-03]\n",
            " [7.3556054e-01]\n",
            " [1.6075373e-04]\n",
            " [9.8124951e-01]\n",
            " [6.9745231e-01]\n",
            " [9.9644589e-01]\n",
            " [1.0501772e-02]\n",
            " [8.4380955e-02]\n",
            " [9.6976453e-01]\n",
            " [9.9517322e-01]\n",
            " [9.8161292e-01]\n",
            " [9.9816048e-01]\n",
            " [1.4826119e-02]\n",
            " [4.3962203e-08]\n",
            " [2.2615194e-02]\n",
            " [9.9459225e-01]\n",
            " [3.8254261e-04]\n",
            " [9.9924624e-01]\n",
            " [1.9088984e-03]\n",
            " [5.7439506e-02]\n",
            " [9.9940735e-01]\n",
            " [9.9092400e-01]\n",
            " [8.7570190e-01]\n",
            " [9.6893615e-01]\n",
            " [9.8206723e-01]\n",
            " [9.8739141e-01]\n",
            " [2.3376942e-04]\n",
            " [3.0931711e-01]\n",
            " [5.5684090e-02]\n",
            " [9.9922925e-01]\n",
            " [9.9429303e-01]\n",
            " [8.3273649e-04]\n",
            " [9.9880373e-01]\n",
            " [1.3866723e-03]\n",
            " [9.4648182e-01]\n",
            " [5.3874904e-01]\n",
            " [9.6540010e-05]\n",
            " [9.9201238e-01]\n",
            " [7.7605033e-01]\n",
            " [2.0199716e-03]\n",
            " [9.9758720e-01]\n",
            " [9.8807704e-01]\n",
            " [9.9874771e-01]\n",
            " [9.5386732e-01]\n",
            " [1.0957668e-04]\n",
            " [9.6348810e-01]\n",
            " [9.3713474e-01]\n",
            " [9.5872402e-01]\n",
            " [5.6947738e-01]\n",
            " [9.9608469e-01]\n",
            " [9.2154551e-01]\n",
            " [1.2313719e-04]\n",
            " [8.8719821e-01]\n",
            " [8.8529909e-01]\n",
            " [9.9757326e-01]\n",
            " [9.9306262e-01]\n",
            " [1.1168185e-01]\n",
            " [1.6914606e-02]\n",
            " [7.6664907e-01]\n",
            " [9.9693930e-01]\n",
            " [7.0221722e-03]\n",
            " [9.0694427e-04]\n",
            " [9.9963814e-01]\n",
            " [8.1040867e-05]\n",
            " [9.9869847e-01]\n",
            " [9.8439014e-01]\n",
            " [8.0420077e-01]\n",
            " [9.9376285e-01]\n",
            " [9.9900222e-01]\n",
            " [9.7470564e-01]\n",
            " [9.9834007e-01]\n",
            " [9.7322899e-01]\n",
            " [8.6040711e-01]\n",
            " [3.5550594e-03]\n",
            " [9.9396360e-01]\n",
            " [9.9441314e-01]\n",
            " [4.8426384e-05]\n",
            " [6.9012858e-05]\n",
            " [8.5950369e-01]\n",
            " [9.9967837e-01]\n",
            " [9.7267294e-01]\n",
            " [7.4911118e-04]\n",
            " [9.9916768e-01]\n",
            " [7.5320172e-01]\n",
            " [9.9234676e-01]\n",
            " [8.3858705e-01]\n",
            " [1.1984110e-02]\n",
            " [7.7577293e-01]\n",
            " [9.3280274e-01]\n",
            " [9.9485970e-01]\n",
            " [3.4403801e-04]\n",
            " [2.0012617e-02]\n",
            " [9.9731934e-01]\n",
            " [8.8015795e-03]\n",
            " [9.9905050e-01]\n",
            " [9.9680865e-01]\n",
            " [8.0397131e-06]\n",
            " [1.1465549e-03]\n",
            " [5.2082807e-02]\n",
            " [5.1600081e-01]\n",
            " [2.0388570e-05]\n",
            " [9.9685478e-01]\n",
            " [1.6148651e-01]\n",
            " [6.1496794e-03]\n",
            " [9.7690719e-01]\n",
            " [5.8668731e-05]\n",
            " [1.6817451e-04]\n",
            " [9.5913649e-01]\n",
            " [9.9748814e-01]\n",
            " [9.5869213e-01]\n",
            " [9.4607341e-01]\n",
            " [9.8777944e-01]\n",
            " [1.1863023e-02]\n",
            " [9.9990344e-01]\n",
            " [1.3796852e-08]\n",
            " [9.9795806e-01]\n",
            " [5.2097499e-02]\n",
            " [3.2793194e-01]\n",
            " [5.4113549e-01]]\n"
          ],
          "name": "stdout"
        }
      ]
    },
    {
      "cell_type": "code",
      "metadata": {
        "id": "16x5Qkzdk4fO",
        "outputId": "85cfecd6-fd6c-47c4-e34b-f21764622f23",
        "colab": {
          "base_uri": "https://localhost:8080/",
          "height": 151
        }
      },
      "source": [
        "import numpy as np\n",
        "p = np.round(p).flatten()\n",
        "print(p)"
      ],
      "execution_count": 19,
      "outputs": [
        {
          "output_type": "stream",
          "text": [
            "[1. 1. 1. 1. 1. 1. 1. 0. 0. 1. 1. 1. 0. 0. 0. 1. 0. 0. 1. 1. 1. 1. 0. 1.\n",
            " 1. 0. 0. 1. 1. 0. 1. 0. 1. 1. 0. 0. 1. 0. 0. 1. 0. 1. 0. 1. 0. 1. 1. 0.\n",
            " 1. 0. 1. 1. 0. 0. 1. 1. 0. 1. 0. 1. 0. 1. 0. 1. 0. 1. 0. 1. 0. 0. 1. 0.\n",
            " 1. 1. 1. 0. 0. 1. 1. 1. 1. 0. 0. 0. 1. 0. 1. 0. 0. 1. 1. 1. 1. 1. 1. 0.\n",
            " 0. 0. 1. 1. 0. 1. 0. 1. 1. 0. 1. 1. 0. 1. 1. 1. 1. 0. 1. 1. 1. 1. 1. 1.\n",
            " 0. 1. 1. 1. 1. 0. 0. 1. 1. 0. 0. 1. 0. 1. 1. 1. 1. 1. 1. 1. 1. 1. 0. 1.\n",
            " 1. 0. 0. 1. 1. 1. 0. 1. 1. 1. 1. 0. 1. 1. 1. 0. 0. 1. 0. 1. 1. 0. 0. 0.\n",
            " 1. 0. 1. 0. 0. 1. 0. 0. 1. 1. 1. 1. 1. 0. 1. 0. 1. 0. 0. 1.]\n"
          ],
          "name": "stdout"
        }
      ]
    },
    {
      "cell_type": "code",
      "metadata": {
        "id": "10a7QbmIljzd",
        "outputId": "f204f60b-f77d-4d8c-94aa-b00ac085b9a9",
        "colab": {
          "base_uri": "https://localhost:8080/",
          "height": 67
        }
      },
      "source": [
        "# Calculate the accuracy, compare it to evaluate()output\n",
        "print(\"Manaual caluculated accuracy:\", np.mean(p == y_test))\n",
        "print(\"Evaluate output:\", model.evaluate(x_test, y_test))"
      ],
      "execution_count": 20,
      "outputs": [
        {
          "output_type": "stream",
          "text": [
            "Manaual caluculated accuracy: 0.9840425531914894\n",
            "6/6 [==============================] - 0s 2ms/step - loss: 0.0916 - accuracy: 0.9840\n",
            "Evaluate output: [0.0915863960981369, 0.9840425252914429]\n"
          ],
          "name": "stdout"
        }
      ]
    },
    {
      "cell_type": "code",
      "metadata": {
        "id": "ySFRAPfImbpo"
      },
      "source": [
        "# Lets save the mdoel to the file\n",
        "model.save(\"linearclassifier.h5\")"
      ],
      "execution_count": 21,
      "outputs": []
    },
    {
      "cell_type": "code",
      "metadata": {
        "id": "NAH8kk1Aq9cT",
        "outputId": "213e5733-7862-477a-fc06-1db12428d007",
        "colab": {
          "base_uri": "https://localhost:8080/",
          "height": 67
        }
      },
      "source": [
        "# Check that the model file exist\n",
        "!ls -lh"
      ],
      "execution_count": 24,
      "outputs": [
        {
          "output_type": "stream",
          "text": [
            "total 24K\n",
            "-rw-r--r-- 1 root root  19K Oct 26 20:49 linearclassifier.h5\n",
            "drwxr-xr-x 1 root root 4.0K Oct 14 16:31 sample_data\n"
          ],
          "name": "stdout"
        }
      ]
    },
    {
      "cell_type": "code",
      "metadata": {
        "id": "jezfB19HrPXi",
        "outputId": "5ccbf998-c470-4070-ac6b-f066dada07aa",
        "colab": {
          "base_uri": "https://localhost:8080/",
          "height": 67
        }
      },
      "source": [
        "# Lets load the model and confirm that it still works\n",
        "model = tf.keras.models.load_model(\"linearclassifier.h5\")\n",
        "print(model.layers)\n",
        "model.evaluate(x_test, y_test)"
      ],
      "execution_count": 25,
      "outputs": [
        {
          "output_type": "stream",
          "text": [
            "[<tensorflow.python.keras.layers.core.Dense object at 0x7fdb355f9cf8>]\n",
            "6/6 [==============================] - 0s 1ms/step - loss: 0.0916 - accuracy: 0.9840\n"
          ],
          "name": "stdout"
        },
        {
          "output_type": "execute_result",
          "data": {
            "text/plain": [
              "[0.0915863960981369, 0.9840425252914429]"
            ]
          },
          "metadata": {
            "tags": []
          },
          "execution_count": 25
        }
      ]
    },
    {
      "cell_type": "code",
      "metadata": {
        "id": "ZvYyI3I0sQZM"
      },
      "source": [
        ""
      ],
      "execution_count": null,
      "outputs": []
    }
  ]
}